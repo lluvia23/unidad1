{
  "nbformat": 4,
  "nbformat_minor": 0,
  "metadata": {
    "colab": {
      "provenance": [],
      "authorship_tag": "ABX9TyNwOfw/lvgxqhR+/UFcaZFy",
      "include_colab_link": true
    },
    "kernelspec": {
      "name": "python3",
      "display_name": "Python 3"
    },
    "language_info": {
      "name": "python"
    }
  },
  "cells": [
    {
      "cell_type": "markdown",
      "metadata": {
        "id": "view-in-github",
        "colab_type": "text"
      },
      "source": [
        "<a href=\"https://colab.research.google.com/github/lluvia23/unidad1/blob/main/practica2.ipynb\" target=\"_parent\"><img src=\"https://colab.research.google.com/assets/colab-badge.svg\" alt=\"Open In Colab\"/></a>"
      ]
    },
    {
      "cell_type": "markdown",
      "source": [
        "practica 2- numpy\n",
        "lluvia guadalupe encinas juarez\n",
        "5-f\n",
        "fecha:09 de septiembre del 2025\n",
        "-------------------------------------\n",
        "como verificicar el numero de dimensiones\n",
        "numpy proporciona  el atributo ndim que devuelve un numero entero que nos dice\n",
        "cuantas matrices tiene una dimension\n",
        "--------------------------------------\n",
        "ejemplo: conmprueba de cuantas dimensiones son las siguientes matrices\n",
        "--------------------------------------\n",
        "\n"
      ],
      "metadata": {
        "id": "rAk0X_7crTuZ"
      }
    },
    {
      "cell_type": "code",
      "source": [
        "import numpy as np\n",
        "arregloA=np.array(42)\n",
        "arrregloB=np.array([1,2,3,4,5])\n",
        "arregloC=np.array([[1,2,3],[4,5,6]])\n",
        "arregloD=np.array([[[1,2,3],[4,5,6]],[[1,2,3],[4,5,6]]])\n",
        "\n",
        "print(arregloA.ndim)\n",
        "print(arrregloB.ndim)\n",
        "print(arregloC.ndim)\n",
        "print(arregloD.ndim)\n"
      ],
      "metadata": {
        "colab": {
          "base_uri": "https://localhost:8080/"
        },
        "id": "tNxNpCgvse_C",
        "outputId": "2f8ee46a-a374-4d2b-dda3-c5a45a79110a"
      },
      "execution_count": 1,
      "outputs": [
        {
          "output_type": "stream",
          "name": "stdout",
          "text": [
            "0\n",
            "1\n",
            "2\n",
            "3\n"
          ]
        }
      ]
    },
    {
      "cell_type": "markdown",
      "source": [
        " matrices de dimensiones superiores\n",
        " una matriz puede tener cualquier numero de dimensiones\n",
        " cuando se crea una matriz,puede definir el numero de dimensiones utilizando\n",
        " el argumento ndim\n",
        "\n",
        " ejemplo:crea una matriz con 5 dimensiones y verifica que tenga las 5 dimensiones\n",
        ""
      ],
      "metadata": {
        "id": "3mxePOt_u21p"
      }
    },
    {
      "cell_type": "code",
      "source": [
        "import numpy as np\n",
        "arreglo=np.array([1,2,3,4,5],ndmin=5)\n",
        "print(arreglo)\n",
        "print(\"numero de dimensiones:\" , arreglo.ndim)"
      ],
      "metadata": {
        "colab": {
          "base_uri": "https://localhost:8080/"
        },
        "id": "NGWnNJW2wGR8",
        "outputId": "086655c9-38d9-48fc-8de8-6986380b7122"
      },
      "execution_count": 2,
      "outputs": [
        {
          "output_type": "stream",
          "name": "stdout",
          "text": [
            "[[[[[1 2 3 4 5]]]]]\n",
            "numero de dimensiones: 5\n"
          ]
        }
      ]
    },
    {
      "cell_type": "markdown",
      "source": [
        "conciderando la siguiente matriz\n",
        "arreglo=np.array ([[[1,2,3],[4,5,6]]])\n"
      ],
      "metadata": {
        "id": "PlSs9NEIydG4"
      }
    },
    {
      "cell_type": "markdown",
      "source": [
        "numpy indexacion de matrices\n",
        "acceder a elementos de una matriz es lo mismo  que acceder a un elemento haciendo referencia a su numero indice. los indices  en las matrices numpy comienza en 0 , lo que significa que el primer elemento tiene indice 0 y el segundo tiene indice 1, etc\n",
        " ejemplo:obtenga el primer elemento de la siguiente matriz\n",
        ""
      ],
      "metadata": {
        "id": "QhlaiwbizuYJ"
      }
    },
    {
      "cell_type": "code",
      "source": [
        "import numpy as np\n",
        "arreglo=np.array([1,2,3,4,5])\n",
        "print(arreglo[0])"
      ],
      "metadata": {
        "colab": {
          "base_uri": "https://localhost:8080/"
        },
        "id": "RaM6Iiau0_fw",
        "outputId": "c5ae2d9d-7f2d-406b-eabd-b3b6376e6cc0"
      },
      "execution_count": 3,
      "outputs": [
        {
          "output_type": "stream",
          "name": "stdout",
          "text": [
            "1\n"
          ]
        }
      ]
    }
  ]
}