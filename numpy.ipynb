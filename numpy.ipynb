{
  "nbformat": 4,
  "nbformat_minor": 0,
  "metadata": {
    "colab": {
      "provenance": [],
      "authorship_tag": "ABX9TyMYpuIzcAoEtUOJBzJ2OFeP",
      "include_colab_link": true
    },
    "kernelspec": {
      "name": "python3",
      "display_name": "Python 3"
    },
    "language_info": {
      "name": "python"
    }
  },
  "cells": [
    {
      "cell_type": "markdown",
      "metadata": {
        "id": "view-in-github",
        "colab_type": "text"
      },
      "source": [
        "<a href=\"https://colab.research.google.com/github/lluvia23/unidad1/blob/main/numpy.ipynb\" target=\"_parent\"><img src=\"https://colab.research.google.com/assets/colab-badge.svg\" alt=\"Open In Colab\"/></a>"
      ]
    },
    {
      "cell_type": "code",
      "execution_count": null,
      "metadata": {
        "id": "CGvHJVxoiQtq"
      },
      "outputs": [],
      "source": []
    },
    {
      "cell_type": "markdown",
      "source": [
        "Numpy es una libreria de python.\n",
        "numpy se utiliza para trabajar con\n",
        "matrices o arreglos\n",
        "numpy es la agreviatura de \"python numerico\"\n",
        "tambien tiene funciones para trabajar en el dominio del algebra lineal , la transformada y las matrices\n",
        "en python tenemos listas que sirven como matrices,pero son lentas de procesar.\n",
        "numpy tiene como objetivo proporcionar un objecto de matriz que sea 50 veces mas rapido que las listas tradicionales"
      ],
      "metadata": {
        "id": "_YeEqwa1jNr1"
      }
    },
    {
      "cell_type": "code",
      "source": [
        "#primero tenemos que importar la libreria\n",
        "import numpy\n",
        "\n",
        "arreglo = numpy.array([1,2,3,4,5])\n",
        "print(arreglo)"
      ],
      "metadata": {
        "colab": {
          "base_uri": "https://localhost:8080/"
        },
        "id": "aDHLeHoflHks",
        "outputId": "6de3ff3a-43fa-4839-c693-2233deae0fb4"
      },
      "execution_count": 1,
      "outputs": [
        {
          "output_type": "stream",
          "name": "stdout",
          "text": [
            "[1 2 3 4 5]\n"
          ]
        }
      ]
    },
    {
      "cell_type": "markdown",
      "source": [
        "numpy como np\n",
        "numpu generalmente se importa bajo el alias np son un nombre alternativo para referirse a la misma cosa"
      ],
      "metadata": {
        "id": "SzC3JTuwmUjk"
      }
    },
    {
      "cell_type": "code",
      "source": [
        "import numpy as np\n",
        "  arreglo = np.array ([6,7,8,9,10])\n",
        "    print(arreglo)"
      ],
      "metadata": {
        "colab": {
          "base_uri": "https://localhost:8080/"
        },
        "id": "_qzJfQYGmxXF",
        "outputId": "6192d72e-deb7-4916-c2e0-d965366441cc"
      },
      "execution_count": 6,
      "outputs": [
        {
          "output_type": "stream",
          "name": "stdout",
          "text": [
            "[ 6  7  8  9 10]\n"
          ]
        }
      ]
    },
    {
      "cell_type": "markdown",
      "source": [
        "comprobando la version de numpy\n",
        "la cadena de la version se almacena en el atributo _version_\n"
      ],
      "metadata": {
        "id": "WeZ09XgDnd_U"
      }
    },
    {
      "cell_type": "code",
      "source": [
        "import numpy as np\n",
        "print(np._version_)"
      ],
      "metadata": {
        "colab": {
          "base_uri": "https://localhost:8080/"
        },
        "id": "U4EtR8pEoBLv",
        "outputId": "3d85958c-5607-4732-b793-884c0fa5be79"
      },
      "execution_count": 10,
      "outputs": [
        {
          "output_type": "stream",
          "name": "stdout",
          "text": [
            "2.0.2\n"
          ]
        }
      ]
    },
    {
      "cell_type": "markdown",
      "source": [
        "numpy creando matrices\n",
        "crear un objecto  ndarray de numpy\n",
        "numpy se utiliza para trabajar con matrices. el objetivo de matriz se llama ndarray\n",
        "podemos crear un numpy ndarray utilizando la funcion array()"
      ],
      "metadata": {
        "id": "fHqIl6Hyonfu"
      }
    },
    {
      "cell_type": "code",
      "source": [
        "import numpy as np\n",
        "  arreglo = np.array([\"raul\",\"ana\",\"kimberly\",\"jazmin\"])\n",
        "  print(arreglo)\n",
        "  print(type(arreglo))"
      ],
      "metadata": {
        "colab": {
          "base_uri": "https://localhost:8080/",
          "height": 106
        },
        "id": "PzMa3BFtpTHe",
        "outputId": "a7d32f9d-c144-4e49-8c26-05ecd4f97d27"
      },
      "execution_count": 30,
      "outputs": [
        {
          "output_type": "error",
          "ename": "IndentationError",
          "evalue": "unexpected indent (ipython-input-1367814783.py, line 2)",
          "traceback": [
            "\u001b[0;36m  File \u001b[0;32m\"/tmp/ipython-input-1367814783.py\"\u001b[0;36m, line \u001b[0;32m2\u001b[0m\n\u001b[0;31m    arreglo = np.array([\"raul\",\"ana\",\"kimberly\",\"jazmin\"])\u001b[0m\n\u001b[0m    ^\u001b[0m\n\u001b[0;31mIndentationError\u001b[0m\u001b[0;31m:\u001b[0m unexpected indent\n"
          ]
        }
      ]
    },
    {
      "cell_type": "markdown",
      "source": [
        "dimesion en matrices\n",
        "una dimension en matrices es un nivel de profundidad de matriz(matrices anidada)\n",
        "una matriz anidada contiene matrices como elementos\n",
        "matrices 0-D, son elementos de una matriz.cada valor de una matriz es una matriz 0-D.\n",
        "ejemplo: crea una matriz 0-D con un valor de 42"
      ],
      "metadata": {
        "id": "cHJZF2SyqWWV"
      }
    },
    {
      "cell_type": "code",
      "source": [
        "import numpy as np\n",
        "\n",
        "arreglo = np.array(42)\n",
        "\n",
        "print(arreglo)"
      ],
      "metadata": {
        "colab": {
          "base_uri": "https://localhost:8080/"
        },
        "id": "G8ZBOGZ5rXVF",
        "outputId": "788014d9-9b86-4a81-fda7-6a112924f593"
      },
      "execution_count": 20,
      "outputs": [
        {
          "output_type": "stream",
          "name": "stdout",
          "text": [
            "42\n"
          ]
        }
      ]
    },
    {
      "cell_type": "markdown",
      "source": [
        "matrices 1-D\n",
        "una matriz que tiene  matrices 0-D como elementos se denomina matriz\n",
        "unidimension o 1-D.\n",
        "estas son las matrices mas comunes y basicas\n",
        "ejemplo: crea una matriz de 1-D que tengan los valores 1,2,3,4,5\n"
      ],
      "metadata": {
        "id": "WzO7amaescwv"
      }
    },
    {
      "cell_type": "code",
      "source": [
        "import numpy as np\n",
        "arreglo = np.array([1,2,3,4,5])\n",
        "\n",
        "print(arreglo)"
      ],
      "metadata": {
        "colab": {
          "base_uri": "https://localhost:8080/"
        },
        "id": "NtybDB78tVg0",
        "outputId": "46cff875-9fb0-42fb-a7a1-70bc4c1f6772"
      },
      "execution_count": 23,
      "outputs": [
        {
          "output_type": "stream",
          "name": "stdout",
          "text": [
            "[1 2 3 4 5]\n"
          ]
        }
      ]
    },
    {
      "cell_type": "markdown",
      "source": [
        "matrices 2-D\n",
        "una matriz se denomina 1-D como elementos se denominan matriz 2-D\n",
        "a menudo se utilizan  para representar matrices de segundo orden .numpy tiene un submodulo completo dedicado a operaciones con matrices llamado numpy mat.\n",
        "ejemplo: crea una matriz 2-D que contenga  dos matrices con los valores 1,2,3,4,5 y 6"
      ],
      "metadata": {
        "id": "6x6YzPirt3Ck"
      }
    },
    {
      "cell_type": "code",
      "source": [
        "import numpy as np\n",
        "arreglo = np.array([[1,2,3],[4,5,6]])\n",
        "\n",
        "print(arreglo)"
      ],
      "metadata": {
        "colab": {
          "base_uri": "https://localhost:8080/"
        },
        "id": "_AO7vai_u_rt",
        "outputId": "dbc6d288-ad06-451c-e5d2-6116657ee7ea"
      },
      "execution_count": 25,
      "outputs": [
        {
          "output_type": "stream",
          "name": "stdout",
          "text": [
            "[[1 2 3]\n",
            " [4 5 6]]\n"
          ]
        }
      ]
    },
    {
      "cell_type": "markdown",
      "source": [
        "matrices 3-D\n",
        "una matriz que tiene matrices 2D se denomina matriz 3-D\n",
        "estas matrices se utilizan para representar  una tercer matriz\n",
        "ejemplos:crea uan matriz 3D con dos bidimensionales,ambas conteniendo matrices con valores 1,2,3 y 4,5,6\n"
      ],
      "metadata": {
        "id": "9jxYe64svV8V"
      }
    },
    {
      "cell_type": "code",
      "source": [
        "import numpy as np\n",
        "arreglo = np.array([[[1,2,3],[4,5,6]],[[1,2,3],[4,5,6]]])\n",
        "\n",
        "print(arreglo)"
      ],
      "metadata": {
        "colab": {
          "base_uri": "https://localhost:8080/"
        },
        "id": "pX9rEyHrwi7P",
        "outputId": "46719939-715c-43c0-dd56-b02488248918"
      },
      "execution_count": 29,
      "outputs": [
        {
          "output_type": "stream",
          "name": "stdout",
          "text": [
            "[[[1 2 3]\n",
            "  [4 5 6]]\n",
            "\n",
            " [[1 2 3]\n",
            "  [4 5 6]]]\n"
          ]
        }
      ]
    }
  ]
}