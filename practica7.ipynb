{
  "nbformat": 4,
  "nbformat_minor": 0,
  "metadata": {
    "colab": {
      "provenance": [],
      "authorship_tag": "ABX9TyPorWkHEE17sIaGtT7Ob4hL",
      "include_colab_link": true
    },
    "kernelspec": {
      "name": "python3",
      "display_name": "Python 3"
    },
    "language_info": {
      "name": "python"
    }
  },
  "cells": [
    {
      "cell_type": "markdown",
      "metadata": {
        "id": "view-in-github",
        "colab_type": "text"
      },
      "source": [
        "<a href=\"https://colab.research.google.com/github/lluvia23/unidad1/blob/main/practica7.ipynb\" target=\"_parent\"><img src=\"https://colab.research.google.com/assets/colab-badge.svg\" alt=\"Open In Colab\"/></a>"
      ]
    },
    {
      "cell_type": "markdown",
      "source": [
        "lluvia guadalupe encinas juarez - practica 7 -25 de septiembre 2025\n",
        "----------------------------------------\n",
        "slicing numpy\n",
        "---------------\n",
        "utilice STEP para determinar el paso del corte:\n",
        "ejemplo:([1,2,3,4,5,6,7]) - devuelve todos los elementos del indice 1 al 5"
      ],
      "metadata": {
        "id": "4Xx_xM04Gnn3"
      }
    },
    {
      "cell_type": "code",
      "source": [
        "import numpy as np\n",
        "arreglo= np.array([1,2,3,4,5,6,7])\n",
        "print(arreglo[1:5:2])"
      ],
      "metadata": {
        "colab": {
          "base_uri": "https://localhost:8080/"
        },
        "id": "Z_NUazzGIKwL",
        "outputId": "be6993e8-8d21-43c9-fb7c-d5a8197298ae"
      },
      "execution_count": 1,
      "outputs": [
        {
          "output_type": "stream",
          "name": "stdout",
          "text": [
            "[2 4]\n"
          ]
        }
      ]
    },
    {
      "cell_type": "markdown",
      "source": [
        "ejemplo 2:([1,2,3,4,5,6,7]) - devuelve los elementos de la matriz\n"
      ],
      "metadata": {
        "id": "Z156Rh-UJCAC"
      }
    },
    {
      "cell_type": "code",
      "source": [
        "import numpy as np\n",
        "arreglo= np.array([1,2,3,4,5,6,7])\n",
        "print(arreglo[::2])"
      ],
      "metadata": {
        "colab": {
          "base_uri": "https://localhost:8080/"
        },
        "id": "GTdwHYpUJTTX",
        "outputId": "e90e1e33-4d47-4e02-8bec-70307b31edcb"
      },
      "execution_count": 2,
      "outputs": [
        {
          "output_type": "stream",
          "name": "stdout",
          "text": [
            "[1 3 5 7]\n"
          ]
        }
      ]
    },
    {
      "cell_type": "markdown",
      "source": [
        "slice de matrices 2D\n",
        "-----------\n",
        "ejemplo: ([[1,2,3,4,5,6],[6,7,8,9,10]])\n",
        "del segundo elemento corta del indice 1 al indice 4"
      ],
      "metadata": {
        "id": "U2F3XVyXJyEf"
      }
    },
    {
      "cell_type": "code",
      "source": [
        "import numpy as np\n",
        "arreglo= np.array([[1,2,3,4,5,6] , [6,7,8,9,10,11]])\n",
        "print(arreglo[1, 1:4])"
      ],
      "metadata": {
        "colab": {
          "base_uri": "https://localhost:8080/"
        },
        "id": "TYE8cE9aLCo1",
        "outputId": "520ff497-9706-447b-f19d-8644ff61d921"
      },
      "execution_count": 8,
      "outputs": [
        {
          "output_type": "stream",
          "name": "stdout",
          "text": [
            "[7 8 9]\n"
          ]
        }
      ]
    },
    {
      "cell_type": "markdown",
      "source": [
        "ejemplo 4:\n",
        "([[1,2,3,4,5],[6,7,8,9,10]])\n",
        "de ambos elementos devuelve el indice 2\n"
      ],
      "metadata": {
        "id": "pnSy2dT_NGPY"
      }
    },
    {
      "cell_type": "code",
      "source": [
        "import numpy as np\n",
        "arreglo= np.array([[1,2,3,4,5],[6,7,8,9,10]])\n",
        "print(arreglo[0:2, 2])\n"
      ],
      "metadata": {
        "colab": {
          "base_uri": "https://localhost:8080/"
        },
        "id": "CyW--Iw1N0fW",
        "outputId": "70c93374-388a-44a7-f8de-bf0984cee3b5"
      },
      "execution_count": 9,
      "outputs": [
        {
          "output_type": "stream",
          "name": "stdout",
          "text": [
            "[3 8]\n"
          ]
        }
      ]
    },
    {
      "cell_type": "markdown",
      "source": [
        "ejemplo 5:\n",
        "([1,2,3,4,5],[6,7,8,9,10]])\n",
        "de ambos elementos corta el indice 1 y el indice 4"
      ],
      "metadata": {
        "id": "eVbVTfEjOTpz"
      }
    },
    {
      "cell_type": "code",
      "source": [
        "import numpy as np\n",
        "arreglo= np.array([[1,2,3,4,5],[6,7,8,9,10]])\n",
        "print(arreglo[0:2, 1:4])"
      ],
      "metadata": {
        "colab": {
          "base_uri": "https://localhost:8080/"
        },
        "id": "ofPHuVc1OrWE",
        "outputId": "71ea5310-0c18-4a48-8321-4094c13710e5"
      },
      "execution_count": 11,
      "outputs": [
        {
          "output_type": "stream",
          "name": "stdout",
          "text": [
            "[[2 3 4]\n",
            " [7 8 9]]\n"
          ]
        }
      ]
    },
    {
      "cell_type": "markdown",
      "source": [
        "ejercicio1: autonomo del siguiente arreglo ¿cual es el resultado? ([1,2,3,4,5,6,7])\n",
        "corta del 1er elemento al 6to  elemento con paso 2"
      ],
      "metadata": {
        "id": "TR1PWsssQihJ"
      }
    },
    {
      "cell_type": "code",
      "source": [
        "import numpy as np\n",
        "arreglo= np.array([1,2,3,4,5,6,7])\n",
        "print(arreglo[1:6:2])\n"
      ],
      "metadata": {
        "colab": {
          "base_uri": "https://localhost:8080/"
        },
        "id": "S_tfHcTgQ8-n",
        "outputId": "25b3ec86-0efc-41ab-e54b-142ea1850c4b"
      },
      "execution_count": 12,
      "outputs": [
        {
          "output_type": "stream",
          "name": "stdout",
          "text": [
            "[2 4 6]\n"
          ]
        }
      ]
    }
  ]
}