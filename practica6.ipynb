{
  "nbformat": 4,
  "nbformat_minor": 0,
  "metadata": {
    "colab": {
      "provenance": [],
      "authorship_tag": "ABX9TyNDeo1svf/ncInD+5depfqc",
      "include_colab_link": true
    },
    "kernelspec": {
      "name": "python3",
      "display_name": "Python 3"
    },
    "language_info": {
      "name": "python"
    }
  },
  "cells": [
    {
      "cell_type": "markdown",
      "metadata": {
        "id": "view-in-github",
        "colab_type": "text"
      },
      "source": [
        "<a href=\"https://colab.research.google.com/github/lluvia23/unidad1/blob/main/practica6.ipynb\" target=\"_parent\"><img src=\"https://colab.research.google.com/assets/colab-badge.svg\" alt=\"Open In Colab\"/></a>"
      ]
    },
    {
      "cell_type": "markdown",
      "source": [
        "lluvia guadalupe encinas juarez-24 de septiembre del 2025\n",
        "practica 6- cortar arreglos numpy\n",
        "--------------------\n",
        "slice en python significa tomar elementos de un indice  determinada a otro determinado indice.\n",
        "\n",
        "que es slice en lugar del indice de esta manera: [start:end]\n",
        "sino pasamos el inicio se concidera 0\n",
        "sino pasamos el final su longitud es considerada una matriz de una dimension\n",
        "-------------------------\n",
        "ejemplo:([1,2,3,4,5,6,7])\n",
        "cortar los elementos del indice 1 al indice 5\n",
        "------------\n",
        "\n",
        "\n"
      ],
      "metadata": {
        "id": "4xsH-T2NC-UI"
      }
    },
    {
      "cell_type": "code",
      "source": [
        "import numpy as np\n",
        "arreglo=np.array([1,2,3,4,5,6,7])\n",
        "print(arreglo[1:5])\n"
      ],
      "metadata": {
        "colab": {
          "base_uri": "https://localhost:8080/"
        },
        "id": "UlY2eGwbKfj8",
        "outputId": "905a3a19-1195-4dda-e218-8b5471d28c36"
      },
      "execution_count": 3,
      "outputs": [
        {
          "output_type": "stream",
          "name": "stdout",
          "text": [
            "[2 3 4 5]\n"
          ]
        }
      ]
    },
    {
      "cell_type": "markdown",
      "source": [
        "ejemplo 2:\n",
        "([1,2,3,4,5,6,7])\n",
        "cortar del indice 4 hasta la matriz\n"
      ],
      "metadata": {
        "id": "chs2eOAhLRyl"
      }
    },
    {
      "cell_type": "code",
      "source": [
        "import numpy as np\n",
        "arreglo=np.array([1,2,3,4,5,6,7])\n",
        "print(arreglo[4:])\n"
      ],
      "metadata": {
        "colab": {
          "base_uri": "https://localhost:8080/"
        },
        "id": "-bO6k68KLhqM",
        "outputId": "0815643a-1fea-4c12-f36a-05f8db08e389"
      },
      "execution_count": 4,
      "outputs": [
        {
          "output_type": "stream",
          "name": "stdout",
          "text": [
            "[5 6 7]\n"
          ]
        }
      ]
    },
    {
      "cell_type": "markdown",
      "source": [
        "ejemplo 3:\n",
        "([1,2,3,4,5,6,7])\n",
        "cortar elementos desde el principio hasta el indice 5"
      ],
      "metadata": {
        "id": "2r-c6ocFMH2t"
      }
    },
    {
      "cell_type": "code",
      "source": [
        "import numpy as np\n",
        "arreglo=np.array([1,2,3,4,5,6,7])\n",
        "print(arreglo[:5])"
      ],
      "metadata": {
        "colab": {
          "base_uri": "https://localhost:8080/"
        },
        "id": "ocLq0s_hMeST",
        "outputId": "691067bf-e61d-4c17-dffe-eea38a5808a9"
      },
      "execution_count": 7,
      "outputs": [
        {
          "output_type": "stream",
          "name": "stdout",
          "text": [
            "[1 2 3 4 5]\n"
          ]
        }
      ]
    },
    {
      "cell_type": "markdown",
      "source": [
        "ejemplo 4:\n",
        "([1,2,3,4,5,6,7])\n",
        "corte negativo,utilizamos el operador \"menos\" para hacer referencia a un indice hasta el final\n",
        "-----------------------------\n",
        "cortar del indice 3 desde el final al indice 1 desde el final"
      ],
      "metadata": {
        "id": "bJB6W4iaM2oj"
      }
    },
    {
      "cell_type": "code",
      "source": [
        "import numpy as np\n",
        "arreglo=np.array([1,2,3,4,5,6,7])\n",
        "print(arreglo[-3:-1])\n"
      ],
      "metadata": {
        "colab": {
          "base_uri": "https://localhost:8080/"
        },
        "id": "DWeCE4lGNVQD",
        "outputId": "85ee369b-c695-4c67-c671-10a9f8dd9714"
      },
      "execution_count": 8,
      "outputs": [
        {
          "output_type": "stream",
          "name": "stdout",
          "text": [
            "[5 6]\n"
          ]
        }
      ]
    }
  ]
}