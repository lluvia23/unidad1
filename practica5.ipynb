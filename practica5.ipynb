{
  "nbformat": 4,
  "nbformat_minor": 0,
  "metadata": {
    "colab": {
      "provenance": [],
      "authorship_tag": "ABX9TyOqVCdAOuD90/RznNLkmTXh",
      "include_colab_link": true
    },
    "kernelspec": {
      "name": "python3",
      "display_name": "Python 3"
    },
    "language_info": {
      "name": "python"
    }
  },
  "cells": [
    {
      "cell_type": "markdown",
      "metadata": {
        "id": "view-in-github",
        "colab_type": "text"
      },
      "source": [
        "<a href=\"https://colab.research.google.com/github/lluvia23/unidad1/blob/main/practica5.ipynb\" target=\"_parent\"><img src=\"https://colab.research.google.com/assets/colab-badge.svg\" alt=\"Open In Colab\"/></a>"
      ]
    },
    {
      "cell_type": "markdown",
      "source": [
        "calcula la media la moda y la mediana de las siguientes listas mediante a un codigo\n",
        "\n",
        "[23,45,56,12,67,34,55,21]\n",
        " y muestra los resultados en pantalla\n"
      ],
      "metadata": {
        "id": "1rBQMviE3Wlc"
      }
    },
    {
      "cell_type": "code",
      "source": [
        "\n",
        "\n",
        "\n",
        "import numpy as np\n",
        "\n",
        "datos = np.array([12,21,23,34,45,55,56,67])\n",
        "\n",
        "media = np.mean(datos)\n",
        "\n",
        "print(f\"La media es: {media}\")\n",
        "\n",
        "\n"
      ],
      "metadata": {
        "colab": {
          "base_uri": "https://localhost:8080/"
        },
        "id": "4s_pe8yP-vUq",
        "outputId": "e141079c-3eff-4b13-87f8-9d254030e162"
      },
      "execution_count": 15,
      "outputs": [
        {
          "output_type": "stream",
          "name": "stdout",
          "text": [
            "La media es: 39.125\n"
          ]
        }
      ]
    },
    {
      "cell_type": "code",
      "source": [
        "\n",
        "\n",
        "\n",
        "\n",
        "import numpy as np\n",
        "\n",
        "datos = np.array([12,21,23,34,45,55,56,67])\n",
        "\n",
        "mediana = np.median(datos)\n",
        "\n",
        "print(f\"La mediana es: {mediana}\")\n"
      ],
      "metadata": {
        "colab": {
          "base_uri": "https://localhost:8080/"
        },
        "id": "KBluohK5_KJw",
        "outputId": "f37f6f28-3db9-4368-9294-9eaeb3f8f9a0"
      },
      "execution_count": 16,
      "outputs": [
        {
          "output_type": "stream",
          "name": "stdout",
          "text": [
            "La mediana es: 39.5\n"
          ]
        }
      ]
    },
    {
      "cell_type": "code",
      "source": [
        "import numpy as np\n",
        "from scipy import stats\n",
        "\n",
        "datos = np.array([23, 45, 56, 12, 67, 34,55, 21])\n",
        "\n",
        "moda = stats.mode(datos, keepdims=False)\n",
        "\n",
        "print(f\"La moda es: {moda.mode} y se repite {moda.count} veces.\")"
      ],
      "metadata": {
        "colab": {
          "base_uri": "https://localhost:8080/"
        },
        "id": "hGSt5duv_qcw",
        "outputId": "69eb5fc8-ee61-45d1-e493-5b69480f2990"
      },
      "execution_count": 19,
      "outputs": [
        {
          "output_type": "stream",
          "name": "stdout",
          "text": [
            "La moda es: 12 y se repite 1 veces.\n"
          ]
        }
      ]
    },
    {
      "cell_type": "markdown",
      "source": [
        "calcula la media moda y mediana de la siguiente lista\n",
        "[10,20,30,40,20,50,20]\n"
      ],
      "metadata": {
        "id": "fz-k6TVo_yrf"
      }
    },
    {
      "cell_type": "code",
      "source": [
        "import numpy as np\n",
        "from scipy import stats\n",
        "\n",
        "datos = np.array([10, 20, 30, 40, 20, 50, 20])\n",
        "\n",
        "moda = stats.mode(datos, keepdims=False)\n",
        "\n",
        "print(f\"La moda es: {moda.mode} y se repite {moda.count} veces.\")"
      ],
      "metadata": {
        "colab": {
          "base_uri": "https://localhost:8080/"
        },
        "id": "bdmio601BQLo",
        "outputId": "b86ee739-5693-4cce-f932-aae0f077a1a1"
      },
      "execution_count": 9,
      "outputs": [
        {
          "output_type": "stream",
          "name": "stdout",
          "text": [
            "La moda es: 20 y se repite 3 veces.\n"
          ]
        }
      ]
    },
    {
      "cell_type": "code",
      "source": [
        "import numpy as np\n",
        "\n",
        "datos = np.array([10, 20, 30, 40, 20, 50, 20])\n",
        "\n",
        "mediana = np.median(datos)\n",
        "\n",
        "print(f\"La mediana es: {mediana}\")"
      ],
      "metadata": {
        "colab": {
          "base_uri": "https://localhost:8080/"
        },
        "id": "PCb-Iv7wBa-g",
        "outputId": "d2897365-3e4b-4b90-8718-0dc3d93589fe"
      },
      "execution_count": 10,
      "outputs": [
        {
          "output_type": "stream",
          "name": "stdout",
          "text": [
            "La mediana es: 20.0\n"
          ]
        }
      ]
    },
    {
      "cell_type": "code",
      "source": [
        "import numpy as np\n",
        "\n",
        "datos = np.array([10, 20, 30, 40, 20, 50, 20])\n",
        "\n",
        "media = np.mean(datos)\n",
        "\n",
        "print(f\"La media es: {media}\")"
      ],
      "metadata": {
        "colab": {
          "base_uri": "https://localhost:8080/"
        },
        "id": "9sME4zNGBjbP",
        "outputId": "134af9ca-add6-454c-99b8-892772ab2e0e"
      },
      "execution_count": 11,
      "outputs": [
        {
          "output_type": "stream",
          "name": "stdout",
          "text": [
            "La media es: 27.142857142857142\n"
          ]
        }
      ]
    },
    {
      "cell_type": "markdown",
      "source": [
        "calcula la media moda y mediana de la siguente lista\n",
        "[10,20,30,40,50]"
      ],
      "metadata": {
        "id": "kqPtVlXCBzzP"
      }
    },
    {
      "cell_type": "code",
      "source": [
        "import numpy as np\n",
        "\n",
        "datos = np.array([10, 20, 30, 40, 50])\n",
        "\n",
        "media = np.mean(datos)\n",
        "\n",
        "print(f\"La media es: {media}\")\n"
      ],
      "metadata": {
        "colab": {
          "base_uri": "https://localhost:8080/"
        },
        "id": "dQe1kaakB_7P",
        "outputId": "bc6ae6fb-ffba-4277-9cf0-846623979a4a"
      },
      "execution_count": 12,
      "outputs": [
        {
          "output_type": "stream",
          "name": "stdout",
          "text": [
            "La media es: 30.0\n"
          ]
        }
      ]
    },
    {
      "cell_type": "code",
      "source": [
        "import numpy as np\n",
        "from scipy import stats\n",
        "\n",
        "datos = np.array([10, 20, 30, 40, 50])\n",
        "\n",
        "moda = stats.mode(datos, keepdims=False)\n",
        "\n",
        "print(f\"La moda es: {moda.mode} y se repite {moda.count} veces.\")"
      ],
      "metadata": {
        "colab": {
          "base_uri": "https://localhost:8080/"
        },
        "id": "sbcILkMsCFxX",
        "outputId": "2b726a50-0473-444f-da06-d23262c1e164"
      },
      "execution_count": 13,
      "outputs": [
        {
          "output_type": "stream",
          "name": "stdout",
          "text": [
            "La moda es: 10 y se repite 1 veces.\n"
          ]
        }
      ]
    },
    {
      "cell_type": "code",
      "source": [
        "import numpy as np\n",
        "\n",
        "datos = np.array([10, 20, 30, 40, 20, 50, 20])\n",
        "\n",
        "mediana = np.median(datos)\n",
        "\n",
        "print(f\"La mediana es: {mediana}\")"
      ],
      "metadata": {
        "colab": {
          "base_uri": "https://localhost:8080/"
        },
        "id": "0ptyGxLWCY_Q",
        "outputId": "c4f0fd55-1ad5-47cc-86db-60a1b9d91ec0"
      },
      "execution_count": 14,
      "outputs": [
        {
          "output_type": "stream",
          "name": "stdout",
          "text": [
            "La mediana es: 20.0\n"
          ]
        }
      ]
    }
  ]
}