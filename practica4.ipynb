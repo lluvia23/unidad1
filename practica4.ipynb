{
  "nbformat": 4,
  "nbformat_minor": 0,
  "metadata": {
    "colab": {
      "provenance": [],
      "authorship_tag": "ABX9TyOyC9CYj/zXQbGjuB5lIla7",
      "include_colab_link": true
    },
    "kernelspec": {
      "name": "python3",
      "display_name": "Python 3"
    },
    "language_info": {
      "name": "python"
    }
  },
  "cells": [
    {
      "cell_type": "markdown",
      "metadata": {
        "id": "view-in-github",
        "colab_type": "text"
      },
      "source": [
        "<a href=\"https://colab.research.google.com/github/lluvia23/unidad1/blob/main/practica4.ipynb\" target=\"_parent\"><img src=\"https://colab.research.google.com/assets/colab-badge.svg\" alt=\"Open In Colab\"/></a>"
      ]
    },
    {
      "cell_type": "markdown",
      "source": [
        "numpy indesaccion  de matrices\n",
        "------------------------------\n",
        "la intexacion de matrices es lo mismo que acceder a un elemento de una matriz.\n",
        "puede acceder a un elemento  de una matriz haciendo referencia a su numero de matriz\n",
        "\n",
        "los indices en las matrices numpy comienzan en 0 lo que significa en el primer elemento tiene indice 0, el segundo 1, el tercero 2 , etc.\n",
        "\n",
        "ejemplo:"
      ],
      "metadata": {
        "id": "5w7cpWsyQtY3"
      }
    },
    {
      "cell_type": "code",
      "source": [
        "import numpy as np\n",
        "\n",
        "arreglo = np.array([1, 2, 3, 4 , 5])\n",
        "print(arreglo[0])"
      ],
      "metadata": {
        "colab": {
          "base_uri": "https://localhost:8080/"
        },
        "id": "slhvrXo8SQdc",
        "outputId": "f258f70c-9ec6-44a0-a28b-fac9c361e476"
      },
      "execution_count": 1,
      "outputs": [
        {
          "output_type": "stream",
          "name": "stdout",
          "text": [
            "1\n"
          ]
        }
      ]
    },
    {
      "cell_type": "markdown",
      "source": [
        "de la siguiente lista 6,7,8,9,10 obtenga el tercero y cuarto"
      ],
      "metadata": {
        "id": "XWU_NClRSiYl"
      }
    },
    {
      "cell_type": "code",
      "source": [
        "import numpy as np\n",
        "\n",
        "arreglo = np.array([6,7,8,9,10])\n",
        "print(arreglo[2])\n",
        "print(arreglo[3])"
      ],
      "metadata": {
        "colab": {
          "base_uri": "https://localhost:8080/"
        },
        "id": "YXRjuARnSu-g",
        "outputId": "8b12e20a-b829-423a-a9bb-e1db1732348a"
      },
      "execution_count": 2,
      "outputs": [
        {
          "output_type": "stream",
          "name": "stdout",
          "text": [
            "8\n",
            "9\n"
          ]
        }
      ]
    },
    {
      "cell_type": "markdown",
      "source": [
        "acceder a matrices 2D\n",
        "-----------------------\n",
        "para acceder a elementos de matrices 2D podemos utilizar numeros enteros separados por comas que representan al numero de dimesion y al indice del elemento\n",
        "\n",
        "piense en matrices 2D como una tabla como filas y columnas donde la dimension representa la fila y el indice de una columna\n",
        "\n",
        "ejemplo:\n",
        "\n",
        "realiza una matriz 2D con los siguientes arreglos, lista1: 1,2,3,4,5 y la lista2: 6,7,8,9,10\n",
        "de la matriz 2D accede al primer elemento de la primera y segunda fila"
      ],
      "metadata": {
        "id": "CJk8PqcxTFmS"
      }
    },
    {
      "cell_type": "code",
      "source": [
        "import numpy as np\n",
        "\n",
        "arreglo = np.array([[1,2,3,4,5],[6,7,8,9,10]])\n",
        "print(arreglo[0,1])\n",
        "print(arreglo[1,2])"
      ],
      "metadata": {
        "colab": {
          "base_uri": "https://localhost:8080/"
        },
        "id": "4W06wcfqWJVQ",
        "outputId": "e1930ded-5fb7-4b11-d538-0dc520598db4"
      },
      "execution_count": 3,
      "outputs": [
        {
          "output_type": "stream",
          "name": "stdout",
          "text": [
            "2\n",
            "8\n"
          ]
        }
      ]
    }
  ]
}