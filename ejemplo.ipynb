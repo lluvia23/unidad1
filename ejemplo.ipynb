{
  "nbformat": 4,
  "nbformat_minor": 0,
  "metadata": {
    "colab": {
      "provenance": [],
      "authorship_tag": "ABX9TyOv2BuPxWbEU25eLJlNy3wK",
      "include_colab_link": true
    },
    "kernelspec": {
      "name": "python3",
      "display_name": "Python 3"
    },
    "language_info": {
      "name": "python"
    }
  },
  "cells": [
    {
      "cell_type": "markdown",
      "metadata": {
        "id": "view-in-github",
        "colab_type": "text"
      },
      "source": [
        "<a href=\"https://colab.research.google.com/github/lluvia23/unidad1/blob/main/ejemplo.ipynb\" target=\"_parent\"><img src=\"https://colab.research.google.com/assets/colab-badge.svg\" alt=\"Open In Colab\"/></a>"
      ]
    },
    {
      "cell_type": "code",
      "execution_count": null,
      "metadata": {
        "id": "fVy8qtPxv-4_"
      },
      "outputs": [],
      "source": []
    },
    {
      "cell_type": "markdown",
      "source": [
        "prueba de colab python"
      ],
      "metadata": {
        "id": "gKjc3vyvxesR"
      }
    },
    {
      "cell_type": "code",
      "source": [
        "print(\"hola mundo\")"
      ],
      "metadata": {
        "colab": {
          "base_uri": "https://localhost:8080/"
        },
        "id": "FmA5yDBZxxXQ",
        "outputId": "70f9f33c-6665-47cf-da22-97848ec2bf67"
      },
      "execution_count": 1,
      "outputs": [
        {
          "output_type": "stream",
          "name": "stdout",
          "text": [
            "hola mundo\n"
          ]
        }
      ]
    },
    {
      "cell_type": "markdown",
      "source": [
        "variables"
      ],
      "metadata": {
        "id": "trcsSJO4yQsM"
      }
    },
    {
      "cell_type": "code",
      "source": [
        "#variables en python\n",
        "nombre=\"lluvia\"\n",
        "paterno=\"encinas\"\n",
        "materno=\"juarez\"\n",
        "edad= 16\n",
        "estatura= 1.57\n",
        "print(nombre,paterno,materno,edad,estatura)"
      ],
      "metadata": {
        "colab": {
          "base_uri": "https://localhost:8080/"
        },
        "id": "SyCgLo0RyWLi",
        "outputId": "30444c37-7d6e-4082-f6a0-4e49ddabc442"
      },
      "execution_count": 2,
      "outputs": [
        {
          "output_type": "stream",
          "name": "stdout",
          "text": [
            "lluvia encinas juarez 16 1.57\n"
          ]
        }
      ]
    },
    {
      "cell_type": "markdown",
      "source": [
        "solicitar 2 numeros al usuario y sumarlos"
      ],
      "metadata": {
        "id": "YSjW3sYwzeYb"
      }
    },
    {
      "cell_type": "code",
      "source": [
        "numero1= int(input()\"ingresa el numero 1\"))\n",
        "numero2=(int(input(\"ingresa el segundo numero\"))\n",
        "suma=numero1+numero2\n",
        "         print(\"suma=\" , suma)"
      ],
      "metadata": {
        "colab": {
          "base_uri": "https://localhost:8080/",
          "height": 106
        },
        "id": "5xynS0CKzlSW",
        "outputId": "0795ace5-f2ce-4205-c8c6-d16e9b0d6e5e"
      },
      "execution_count": 4,
      "outputs": [
        {
          "output_type": "error",
          "ename": "SyntaxError",
          "evalue": "unmatched ')' (ipython-input-1103433175.py, line 1)",
          "traceback": [
            "\u001b[0;36m  File \u001b[0;32m\"/tmp/ipython-input-1103433175.py\"\u001b[0;36m, line \u001b[0;32m1\u001b[0m\n\u001b[0;31m    numero1= int(input()\"ingresa el numero 1\"))\u001b[0m\n\u001b[0m                                              ^\u001b[0m\n\u001b[0;31mSyntaxError\u001b[0m\u001b[0;31m:\u001b[0m unmatched ')'\n"
          ]
        }
      ]
    }
  ]
}